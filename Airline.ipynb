{
 "cells": [
  {
   "cell_type": "markdown",
   "id": "b33b04ce",
   "metadata": {},
   "source": [
    "# Import Necessary Libraries "
   ]
  },
  {
   "cell_type": "code",
   "execution_count": 1,
   "id": "cc18ebaf",
   "metadata": {},
   "outputs": [],
   "source": [
    "import pandas as pd\n",
    "import numpy as np\n",
    "import seaborn as sns"
   ]
  },
  {
   "cell_type": "code",
   "execution_count": 2,
   "id": "677dc92c",
   "metadata": {},
   "outputs": [],
   "source": [
    "import matplotlib.pyplot as plt"
   ]
  },
  {
   "cell_type": "markdown",
   "id": "71aafb70",
   "metadata": {},
   "source": [
    "# Import Data"
   ]
  },
  {
   "cell_type": "code",
   "execution_count": 3,
   "id": "0041c001",
   "metadata": {},
   "outputs": [
    {
     "data": {
      "text/html": [
       "<div>\n",
       "<style scoped>\n",
       "    .dataframe tbody tr th:only-of-type {\n",
       "        vertical-align: middle;\n",
       "    }\n",
       "\n",
       "    .dataframe tbody tr th {\n",
       "        vertical-align: top;\n",
       "    }\n",
       "\n",
       "    .dataframe thead th {\n",
       "        text-align: right;\n",
       "    }\n",
       "</style>\n",
       "<table border=\"1\" class=\"dataframe\">\n",
       "  <thead>\n",
       "    <tr style=\"text-align: right;\">\n",
       "      <th></th>\n",
       "      <th>Month</th>\n",
       "      <th>Passengers</th>\n",
       "    </tr>\n",
       "  </thead>\n",
       "  <tbody>\n",
       "    <tr>\n",
       "      <th>0</th>\n",
       "      <td>1995-01-01</td>\n",
       "      <td>112</td>\n",
       "    </tr>\n",
       "    <tr>\n",
       "      <th>1</th>\n",
       "      <td>1995-02-01</td>\n",
       "      <td>118</td>\n",
       "    </tr>\n",
       "    <tr>\n",
       "      <th>2</th>\n",
       "      <td>1995-03-01</td>\n",
       "      <td>132</td>\n",
       "    </tr>\n",
       "    <tr>\n",
       "      <th>3</th>\n",
       "      <td>1995-04-01</td>\n",
       "      <td>129</td>\n",
       "    </tr>\n",
       "    <tr>\n",
       "      <th>4</th>\n",
       "      <td>1995-05-01</td>\n",
       "      <td>121</td>\n",
       "    </tr>\n",
       "    <tr>\n",
       "      <th>...</th>\n",
       "      <td>...</td>\n",
       "      <td>...</td>\n",
       "    </tr>\n",
       "    <tr>\n",
       "      <th>91</th>\n",
       "      <td>2002-08-01</td>\n",
       "      <td>405</td>\n",
       "    </tr>\n",
       "    <tr>\n",
       "      <th>92</th>\n",
       "      <td>2002-09-01</td>\n",
       "      <td>355</td>\n",
       "    </tr>\n",
       "    <tr>\n",
       "      <th>93</th>\n",
       "      <td>2002-10-01</td>\n",
       "      <td>306</td>\n",
       "    </tr>\n",
       "    <tr>\n",
       "      <th>94</th>\n",
       "      <td>2002-11-01</td>\n",
       "      <td>271</td>\n",
       "    </tr>\n",
       "    <tr>\n",
       "      <th>95</th>\n",
       "      <td>2002-12-01</td>\n",
       "      <td>306</td>\n",
       "    </tr>\n",
       "  </tbody>\n",
       "</table>\n",
       "<p>96 rows × 2 columns</p>\n",
       "</div>"
      ],
      "text/plain": [
       "        Month  Passengers\n",
       "0  1995-01-01         112\n",
       "1  1995-02-01         118\n",
       "2  1995-03-01         132\n",
       "3  1995-04-01         129\n",
       "4  1995-05-01         121\n",
       "..        ...         ...\n",
       "91 2002-08-01         405\n",
       "92 2002-09-01         355\n",
       "93 2002-10-01         306\n",
       "94 2002-11-01         271\n",
       "95 2002-12-01         306\n",
       "\n",
       "[96 rows x 2 columns]"
      ]
     },
     "execution_count": 3,
     "metadata": {},
     "output_type": "execute_result"
    }
   ],
   "source": [
    "airline=pd.read_excel('C:\\\\Users\\\\user\\\\Downloads\\\\Airlines+Data.xlsx')\n",
    "airline"
   ]
  },
  {
   "cell_type": "markdown",
   "id": "5d8734f8",
   "metadata": {},
   "source": [
    "# Data Understanding"
   ]
  },
  {
   "cell_type": "code",
   "execution_count": 4,
   "id": "0e8be655",
   "metadata": {},
   "outputs": [
    {
     "data": {
      "text/plain": [
       "(96, 2)"
      ]
     },
     "execution_count": 4,
     "metadata": {},
     "output_type": "execute_result"
    }
   ],
   "source": [
    "airline.shape"
   ]
  },
  {
   "cell_type": "code",
   "execution_count": 5,
   "id": "4b2b0b09",
   "metadata": {},
   "outputs": [
    {
     "data": {
      "text/plain": [
       "Month         datetime64[ns]\n",
       "Passengers             int64\n",
       "dtype: object"
      ]
     },
     "execution_count": 5,
     "metadata": {},
     "output_type": "execute_result"
    }
   ],
   "source": [
    "airline.dtypes"
   ]
  },
  {
   "cell_type": "code",
   "execution_count": 6,
   "id": "387d2959",
   "metadata": {},
   "outputs": [
    {
     "data": {
      "text/plain": [
       "Month         0\n",
       "Passengers    0\n",
       "dtype: int64"
      ]
     },
     "execution_count": 6,
     "metadata": {},
     "output_type": "execute_result"
    }
   ],
   "source": [
    "airline.isna().sum()"
   ]
  },
  {
   "cell_type": "code",
   "execution_count": 7,
   "id": "4197aec0",
   "metadata": {},
   "outputs": [
    {
     "data": {
      "text/html": [
       "<div>\n",
       "<style scoped>\n",
       "    .dataframe tbody tr th:only-of-type {\n",
       "        vertical-align: middle;\n",
       "    }\n",
       "\n",
       "    .dataframe tbody tr th {\n",
       "        vertical-align: top;\n",
       "    }\n",
       "\n",
       "    .dataframe thead th {\n",
       "        text-align: right;\n",
       "    }\n",
       "</style>\n",
       "<table border=\"1\" class=\"dataframe\">\n",
       "  <thead>\n",
       "    <tr style=\"text-align: right;\">\n",
       "      <th></th>\n",
       "      <th>Passengers</th>\n",
       "    </tr>\n",
       "    <tr>\n",
       "      <th>Month</th>\n",
       "      <th></th>\n",
       "    </tr>\n",
       "  </thead>\n",
       "  <tbody>\n",
       "    <tr>\n",
       "      <th>1995-01-01</th>\n",
       "      <td>112</td>\n",
       "    </tr>\n",
       "    <tr>\n",
       "      <th>1995-02-01</th>\n",
       "      <td>118</td>\n",
       "    </tr>\n",
       "    <tr>\n",
       "      <th>1995-03-01</th>\n",
       "      <td>132</td>\n",
       "    </tr>\n",
       "    <tr>\n",
       "      <th>1995-04-01</th>\n",
       "      <td>129</td>\n",
       "    </tr>\n",
       "    <tr>\n",
       "      <th>1995-05-01</th>\n",
       "      <td>121</td>\n",
       "    </tr>\n",
       "    <tr>\n",
       "      <th>...</th>\n",
       "      <td>...</td>\n",
       "    </tr>\n",
       "    <tr>\n",
       "      <th>2002-08-01</th>\n",
       "      <td>405</td>\n",
       "    </tr>\n",
       "    <tr>\n",
       "      <th>2002-09-01</th>\n",
       "      <td>355</td>\n",
       "    </tr>\n",
       "    <tr>\n",
       "      <th>2002-10-01</th>\n",
       "      <td>306</td>\n",
       "    </tr>\n",
       "    <tr>\n",
       "      <th>2002-11-01</th>\n",
       "      <td>271</td>\n",
       "    </tr>\n",
       "    <tr>\n",
       "      <th>2002-12-01</th>\n",
       "      <td>306</td>\n",
       "    </tr>\n",
       "  </tbody>\n",
       "</table>\n",
       "<p>96 rows × 1 columns</p>\n",
       "</div>"
      ],
      "text/plain": [
       "            Passengers\n",
       "Month                 \n",
       "1995-01-01         112\n",
       "1995-02-01         118\n",
       "1995-03-01         132\n",
       "1995-04-01         129\n",
       "1995-05-01         121\n",
       "...                ...\n",
       "2002-08-01         405\n",
       "2002-09-01         355\n",
       "2002-10-01         306\n",
       "2002-11-01         271\n",
       "2002-12-01         306\n",
       "\n",
       "[96 rows x 1 columns]"
      ]
     },
     "execution_count": 7,
     "metadata": {},
     "output_type": "execute_result"
    }
   ],
   "source": [
    "airline_1=pd.read_excel('C:\\\\Users\\\\user\\\\Downloads\\\\Airlines+Data.xlsx',index_col=0,parse_dates=True)\n",
    "airline_1"
   ]
  },
  {
   "cell_type": "code",
   "execution_count": 8,
   "id": "6ccc1dbb",
   "metadata": {},
   "outputs": [
    {
     "data": {
      "text/plain": [
       "Passengers    int64\n",
       "dtype: object"
      ]
     },
     "execution_count": 8,
     "metadata": {},
     "output_type": "execute_result"
    }
   ],
   "source": [
    "airline_1.dtypes"
   ]
  },
  {
   "cell_type": "markdown",
   "id": "1927ca6b",
   "metadata": {},
   "source": [
    "# Visualization"
   ]
  },
  {
   "cell_type": "code",
   "execution_count": 9,
   "id": "11fbf0e2",
   "metadata": {},
   "outputs": [
    {
     "data": {
      "image/png": "[encoded data removed]",
      "text/plain": [
       "<Figure size 1224x504 with 1 Axes>"
      ]
     },
     "metadata": {
      "needs_background": "light"
     },
     "output_type": "display_data"
    }
   ],
   "source": [
    "plt.figure(figsize=(17,7))\n",
    "plt.plot(airline_1['Passengers'])\n",
    "plt.title('Travelling passengers between 1995-2002',size=15)\n",
    "plt.xlabel('Time')\n",
    "plt.ylabel('Passengers')\n",
    "plt.show()"
   ]
  },
  {
   "cell_type": "code",
   "execution_count": 10,
   "id": "623fbc28",
   "metadata": {},
   "outputs": [
    {
     "data": {
      "text/html": [
       "<div>\n",
       "<style scoped>\n",
       "    .dataframe tbody tr th:only-of-type {\n",
       "        vertical-align: middle;\n",
       "    }\n",
       "\n",
       "    .dataframe tbody tr th {\n",
       "        vertical-align: top;\n",
       "    }\n",
       "\n",
       "    .dataframe thead th {\n",
       "        text-align: right;\n",
       "    }\n",
       "</style>\n",
       "<table border=\"1\" class=\"dataframe\">\n",
       "  <thead>\n",
       "    <tr style=\"text-align: right;\">\n",
       "      <th></th>\n",
       "      <th>Passengers</th>\n",
       "    </tr>\n",
       "    <tr>\n",
       "      <th>Month</th>\n",
       "      <th></th>\n",
       "    </tr>\n",
       "  </thead>\n",
       "  <tbody>\n",
       "    <tr>\n",
       "      <th>1995-01-01</th>\n",
       "      <td>112.0</td>\n",
       "    </tr>\n",
       "    <tr>\n",
       "      <th>1995-01-02</th>\n",
       "      <td>NaN</td>\n",
       "    </tr>\n",
       "    <tr>\n",
       "      <th>1995-01-03</th>\n",
       "      <td>NaN</td>\n",
       "    </tr>\n",
       "    <tr>\n",
       "      <th>1995-01-04</th>\n",
       "      <td>NaN</td>\n",
       "    </tr>\n",
       "    <tr>\n",
       "      <th>1995-01-05</th>\n",
       "      <td>NaN</td>\n",
       "    </tr>\n",
       "    <tr>\n",
       "      <th>...</th>\n",
       "      <td>...</td>\n",
       "    </tr>\n",
       "    <tr>\n",
       "      <th>2002-11-27</th>\n",
       "      <td>NaN</td>\n",
       "    </tr>\n",
       "    <tr>\n",
       "      <th>2002-11-28</th>\n",
       "      <td>NaN</td>\n",
       "    </tr>\n",
       "    <tr>\n",
       "      <th>2002-11-29</th>\n",
       "      <td>NaN</td>\n",
       "    </tr>\n",
       "    <tr>\n",
       "      <th>2002-11-30</th>\n",
       "      <td>NaN</td>\n",
       "    </tr>\n",
       "    <tr>\n",
       "      <th>2002-12-01</th>\n",
       "      <td>306.0</td>\n",
       "    </tr>\n",
       "  </tbody>\n",
       "</table>\n",
       "<p>2892 rows × 1 columns</p>\n",
       "</div>"
      ],
      "text/plain": [
       "            Passengers\n",
       "Month                 \n",
       "1995-01-01       112.0\n",
       "1995-01-02         NaN\n",
       "1995-01-03         NaN\n",
       "1995-01-04         NaN\n",
       "1995-01-05         NaN\n",
       "...                ...\n",
       "2002-11-27         NaN\n",
       "2002-11-28         NaN\n",
       "2002-11-29         NaN\n",
       "2002-11-30         NaN\n",
       "2002-12-01       306.0\n",
       "\n",
       "[2892 rows x 1 columns]"
      ]
     },
     "execution_count": 10,
     "metadata": {},
     "output_type": "execute_result"
    }
   ],
   "source": [
    "resample_airline=airline_1.resample('D').mean()\n",
    "resample_airline"
   ]
  },
  {
   "cell_type": "code",
   "execution_count": 11,
   "id": "c1b45014",
   "metadata": {},
   "outputs": [
    {
     "data": {
      "text/plain": [
       "Passengers    float64\n",
       "dtype: object"
      ]
     },
     "execution_count": 11,
     "metadata": {},
     "output_type": "execute_result"
    }
   ],
   "source": [
    "resample_airline.dtypes"
   ]
  },
  {
   "cell_type": "code",
   "execution_count": 12,
   "id": "ace4bc59",
   "metadata": {},
   "outputs": [
    {
     "data": {
      "text/html": [
       "<div>\n",
       "<style scoped>\n",
       "    .dataframe tbody tr th:only-of-type {\n",
       "        vertical-align: middle;\n",
       "    }\n",
       "\n",
       "    .dataframe tbody tr th {\n",
       "        vertical-align: top;\n",
       "    }\n",
       "\n",
       "    .dataframe thead th {\n",
       "        text-align: right;\n",
       "    }\n",
       "</style>\n",
       "<table border=\"1\" class=\"dataframe\">\n",
       "  <thead>\n",
       "    <tr style=\"text-align: right;\">\n",
       "      <th></th>\n",
       "      <th>Passengers</th>\n",
       "    </tr>\n",
       "    <tr>\n",
       "      <th>Month</th>\n",
       "      <th></th>\n",
       "    </tr>\n",
       "  </thead>\n",
       "  <tbody>\n",
       "    <tr>\n",
       "      <th>1995-01-01</th>\n",
       "      <td>112.000000</td>\n",
       "    </tr>\n",
       "    <tr>\n",
       "      <th>1995-01-02</th>\n",
       "      <td>112.193548</td>\n",
       "    </tr>\n",
       "    <tr>\n",
       "      <th>1995-01-03</th>\n",
       "      <td>112.387097</td>\n",
       "    </tr>\n",
       "    <tr>\n",
       "      <th>1995-01-04</th>\n",
       "      <td>112.580645</td>\n",
       "    </tr>\n",
       "    <tr>\n",
       "      <th>1995-01-05</th>\n",
       "      <td>112.774194</td>\n",
       "    </tr>\n",
       "    <tr>\n",
       "      <th>...</th>\n",
       "      <td>...</td>\n",
       "    </tr>\n",
       "    <tr>\n",
       "      <th>2002-11-27</th>\n",
       "      <td>301.333333</td>\n",
       "    </tr>\n",
       "    <tr>\n",
       "      <th>2002-11-28</th>\n",
       "      <td>302.500000</td>\n",
       "    </tr>\n",
       "    <tr>\n",
       "      <th>2002-11-29</th>\n",
       "      <td>303.666667</td>\n",
       "    </tr>\n",
       "    <tr>\n",
       "      <th>2002-11-30</th>\n",
       "      <td>304.833333</td>\n",
       "    </tr>\n",
       "    <tr>\n",
       "      <th>2002-12-01</th>\n",
       "      <td>306.000000</td>\n",
       "    </tr>\n",
       "  </tbody>\n",
       "</table>\n",
       "<p>2892 rows × 1 columns</p>\n",
       "</div>"
      ],
      "text/plain": [
       "            Passengers\n",
       "Month                 \n",
       "1995-01-01  112.000000\n",
       "1995-01-02  112.193548\n",
       "1995-01-03  112.387097\n",
       "1995-01-04  112.580645\n",
       "1995-01-05  112.774194\n",
       "...                ...\n",
       "2002-11-27  301.333333\n",
       "2002-11-28  302.500000\n",
       "2002-11-29  303.666667\n",
       "2002-11-30  304.833333\n",
       "2002-12-01  306.000000\n",
       "\n",
       "[2892 rows x 1 columns]"
      ]
     },
     "execution_count": 12,
     "metadata": {},
     "output_type": "execute_result"
    }
   ],
   "source": [
    "resample_airline_interpolated=resample_airline.interpolate(method='linear')\n",
    "resample_airline_interpolated"
   ]
  },
  {
   "cell_type": "code",
   "execution_count": 13,
   "id": "1d66215d",
   "metadata": {},
   "outputs": [
    {
     "data": {
      "image/png": "[encoded data removed]",
      "text/plain": [
       "<Figure size 1224x504 with 1 Axes>"
      ]
     },
     "metadata": {
      "needs_background": "light"
     },
     "output_type": "display_data"
    }
   ],
   "source": [
    "plt.figure(figsize=(17,7))\n",
    "plt.plot(resample_airline_interpolated['Passengers'])\n",
    "plt.title('Travelling passengers between 1995-2002',size=15)\n",
    "plt.xlabel('Time')\n",
    "plt.ylabel('Passengers')\n",
    "plt.show()"
   ]
  },
  {
   "cell_type": "markdown",
   "id": "5b674b93",
   "metadata": {},
   "source": [
    "# Normalization"
   ]
  },
  {
   "cell_type": "code",
   "execution_count": 14,
   "id": "82a28bdc",
   "metadata": {},
   "outputs": [],
   "source": [
    "from sklearn.preprocessing import MinMaxScaler"
   ]
  },
  {
   "cell_type": "code",
   "execution_count": 16,
   "id": "53cb5253",
   "metadata": {},
   "outputs": [
    {
     "data": {
      "text/plain": [
       "0     112\n",
       "1     118\n",
       "2     132\n",
       "3     129\n",
       "4     121\n",
       "     ... \n",
       "91    405\n",
       "92    355\n",
       "93    306\n",
       "94    271\n",
       "95    306\n",
       "Name: Passengers, Length: 96, dtype: int64"
      ]
     },
     "execution_count": 16,
     "metadata": {},
     "output_type": "execute_result"
    }
   ],
   "source": [
    "airline.iloc[:,1]"
   ]
  },
  {
   "cell_type": "markdown",
   "id": "384aaaf3",
   "metadata": {},
   "source": [
    "# Model Building"
   ]
  },
  {
   "cell_type": "code",
   "execution_count": 17,
   "id": "3a9e06c7",
   "metadata": {},
   "outputs": [],
   "source": [
    "scaler=MinMaxScaler(feature_range=(0,1))\n",
    "df=scaler.fit_transform(airline.iloc[:,1:])"
   ]
  },
  {
   "cell_type": "code",
   "execution_count": 18,
   "id": "b4ed9c77",
   "metadata": {
    "scrolled": false
   },
   "outputs": [
    {
     "data": {
      "text/plain": [
       "array([[0.02588997],\n",
       "       [0.04530744],\n",
       "       [0.09061489],\n",
       "       [0.08090615],\n",
       "       [0.05501618],\n",
       "       [0.10032362],\n",
       "       [0.14239482],\n",
       "       [0.14239482],\n",
       "       [0.10355987],\n",
       "       [0.04854369],\n",
       "       [0.        ],\n",
       "       [0.04530744],\n",
       "       [0.03559871],\n",
       "       [0.07119741],\n",
       "       [0.1197411 ],\n",
       "       [0.10032362],\n",
       "       [0.06796117],\n",
       "       [0.14563107],\n",
       "       [0.21359223],\n",
       "       [0.21359223],\n",
       "       [0.17475728],\n",
       "       [0.09385113],\n",
       "       [0.03236246],\n",
       "       [0.11650485],\n",
       "       [0.13268608],\n",
       "       [0.14886731],\n",
       "       [0.2394822 ],\n",
       "       [0.19093851],\n",
       "       [0.22006472],\n",
       "       [0.2394822 ],\n",
       "       [0.30744337],\n",
       "       [0.30744337],\n",
       "       [0.25889968],\n",
       "       [0.18770227],\n",
       "       [0.13592233],\n",
       "       [0.20064725],\n",
       "       [0.21682848],\n",
       "       [0.24595469],\n",
       "       [0.28802589],\n",
       "       [0.24919094],\n",
       "       [0.25566343],\n",
       "       [0.36893204],\n",
       "       [0.40776699],\n",
       "       [0.44660194],\n",
       "       [0.33980583],\n",
       "       [0.2815534 ],\n",
       "       [0.22006472],\n",
       "       [0.29126214],\n",
       "       [0.29773463],\n",
       "       [0.29773463],\n",
       "       [0.42718447],\n",
       "       [0.42394822],\n",
       "       [0.40453074],\n",
       "       [0.44983819],\n",
       "       [0.51779935],\n",
       "       [0.54368932],\n",
       "       [0.43042071],\n",
       "       [0.34627832],\n",
       "       [0.24595469],\n",
       "       [0.31391586],\n",
       "       [0.3236246 ],\n",
       "       [0.27184466],\n",
       "       [0.42394822],\n",
       "       [0.39805825],\n",
       "       [0.42071197],\n",
       "       [0.51779935],\n",
       "       [0.6407767 ],\n",
       "       [0.61165049],\n",
       "       [0.50161812],\n",
       "       [0.40453074],\n",
       "       [0.32038835],\n",
       "       [0.40453074],\n",
       "       [0.44660194],\n",
       "       [0.41747573],\n",
       "       [0.52750809],\n",
       "       [0.53398058],\n",
       "       [0.53721683],\n",
       "       [0.6828479 ],\n",
       "       [0.84142395],\n",
       "       [0.78640777],\n",
       "       [0.67313916],\n",
       "       [0.55016181],\n",
       "       [0.43042071],\n",
       "       [0.5631068 ],\n",
       "       [0.58252427],\n",
       "       [0.55987055],\n",
       "       [0.68932039],\n",
       "       [0.6763754 ],\n",
       "       [0.69255663],\n",
       "       [0.87378641],\n",
       "       [1.        ],\n",
       "       [0.97411003],\n",
       "       [0.81229773],\n",
       "       [0.65372168],\n",
       "       [0.54045307],\n",
       "       [0.65372168]])"
      ]
     },
     "execution_count": 18,
     "metadata": {},
     "output_type": "execute_result"
    }
   ],
   "source": [
    "df"
   ]
  },
  {
   "cell_type": "markdown",
   "id": "2504783a",
   "metadata": {},
   "source": [
    "# Model Training||Model Evaluation"
   ]
  },
  {
   "cell_type": "code",
   "execution_count": 19,
   "id": "cfb7c542",
   "metadata": {
    "scrolled": true
   },
   "outputs": [],
   "source": [
    "##splitting dataset into train and test split\n",
    "training_size=int(len(df)*0.65)"
   ]
  },
  {
   "cell_type": "code",
   "execution_count": 20,
   "id": "bd48c610",
   "metadata": {},
   "outputs": [
    {
     "data": {
      "text/plain": [
       "62"
      ]
     },
     "execution_count": 20,
     "metadata": {},
     "output_type": "execute_result"
    }
   ],
   "source": [
    "training_size"
   ]
  },
  {
   "cell_type": "code",
   "execution_count": 21,
   "id": "b06e368e",
   "metadata": {},
   "outputs": [],
   "source": [
    "test_size=len(df)-training_size"
   ]
  },
  {
   "cell_type": "code",
   "execution_count": 22,
   "id": "851d14a4",
   "metadata": {},
   "outputs": [
    {
     "data": {
      "text/plain": [
       "34"
      ]
     },
     "execution_count": 22,
     "metadata": {},
     "output_type": "execute_result"
    }
   ],
   "source": [
    "test_size"
   ]
  },
  {
   "cell_type": "code",
   "execution_count": 23,
   "id": "605ae17b",
   "metadata": {},
   "outputs": [],
   "source": [
    "train_data,test_data=df[0:training_size,:],df[training_size:len(df),:1]"
   ]
  },
  {
   "cell_type": "code",
   "execution_count": 25,
   "id": "630e4d0b",
   "metadata": {},
   "outputs": [
    {
     "data": {
      "text/plain": [
       "array([[0.02588997],\n",
       "       [0.04530744],\n",
       "       [0.09061489],\n",
       "       [0.08090615],\n",
       "       [0.05501618],\n",
       "       [0.10032362],\n",
       "       [0.14239482],\n",
       "       [0.14239482],\n",
       "       [0.10355987],\n",
       "       [0.04854369],\n",
       "       [0.        ],\n",
       "       [0.04530744],\n",
       "       [0.03559871],\n",
       "       [0.07119741],\n",
       "       [0.1197411 ],\n",
       "       [0.10032362],\n",
       "       [0.06796117],\n",
       "       [0.14563107],\n",
       "       [0.21359223],\n",
       "       [0.21359223],\n",
       "       [0.17475728],\n",
       "       [0.09385113],\n",
       "       [0.03236246],\n",
       "       [0.11650485],\n",
       "       [0.13268608],\n",
       "       [0.14886731],\n",
       "       [0.2394822 ],\n",
       "       [0.19093851],\n",
       "       [0.22006472],\n",
       "       [0.2394822 ],\n",
       "       [0.30744337],\n",
       "       [0.30744337],\n",
       "       [0.25889968],\n",
       "       [0.18770227],\n",
       "       [0.13592233],\n",
       "       [0.20064725],\n",
       "       [0.21682848],\n",
       "       [0.24595469],\n",
       "       [0.28802589],\n",
       "       [0.24919094],\n",
       "       [0.25566343],\n",
       "       [0.36893204],\n",
       "       [0.40776699],\n",
       "       [0.44660194],\n",
       "       [0.33980583],\n",
       "       [0.2815534 ],\n",
       "       [0.22006472],\n",
       "       [0.29126214],\n",
       "       [0.29773463],\n",
       "       [0.29773463],\n",
       "       [0.42718447],\n",
       "       [0.42394822],\n",
       "       [0.40453074],\n",
       "       [0.44983819],\n",
       "       [0.51779935],\n",
       "       [0.54368932],\n",
       "       [0.43042071],\n",
       "       [0.34627832],\n",
       "       [0.24595469],\n",
       "       [0.31391586],\n",
       "       [0.3236246 ],\n",
       "       [0.27184466]])"
      ]
     },
     "execution_count": 25,
     "metadata": {},
     "output_type": "execute_result"
    }
   ],
   "source": [
    "train_data"
   ]
  },
  {
   "cell_type": "code",
   "execution_count": 26,
   "id": "fd58ca62",
   "metadata": {},
   "outputs": [
    {
     "data": {
      "text/plain": [
       "array([[0.42394822],\n",
       "       [0.39805825],\n",
       "       [0.42071197],\n",
       "       [0.51779935],\n",
       "       [0.6407767 ],\n",
       "       [0.61165049],\n",
       "       [0.50161812],\n",
       "       [0.40453074],\n",
       "       [0.32038835],\n",
       "       [0.40453074],\n",
       "       [0.44660194],\n",
       "       [0.41747573],\n",
       "       [0.52750809],\n",
       "       [0.53398058],\n",
       "       [0.53721683],\n",
       "       [0.6828479 ],\n",
       "       [0.84142395],\n",
       "       [0.78640777],\n",
       "       [0.67313916],\n",
       "       [0.55016181],\n",
       "       [0.43042071],\n",
       "       [0.5631068 ],\n",
       "       [0.58252427],\n",
       "       [0.55987055],\n",
       "       [0.68932039],\n",
       "       [0.6763754 ],\n",
       "       [0.69255663],\n",
       "       [0.87378641],\n",
       "       [1.        ],\n",
       "       [0.97411003],\n",
       "       [0.81229773],\n",
       "       [0.65372168],\n",
       "       [0.54045307],\n",
       "       [0.65372168]])"
      ]
     },
     "execution_count": 26,
     "metadata": {},
     "output_type": "execute_result"
    }
   ],
   "source": [
    "test_data"
   ]
  },
  {
   "cell_type": "code",
   "execution_count": 29,
   "id": "52d8d3f4",
   "metadata": {},
   "outputs": [],
   "source": [
    "import numpy as np\n",
    "# convert an array of values into a dataset matrix\n",
    "def create_dataset(dataset, time_step=1):\n",
    "    dataX, dataY = [], []\n",
    "    for i in range(len(dataset)-time_step-1):\n",
    "        \n",
    "        a = dataset[i:(i+time_step), 0]   ###i=0, 0,1,2,3\n",
    "        dataX.append(a)\n",
    "        dataY.append(dataset[i + time_step, 0])\n",
    "    return np.array(dataX), np.array(dataY)"
   ]
  },
  {
   "cell_type": "code",
   "execution_count": 30,
   "id": "02dcbf5a",
   "metadata": {},
   "outputs": [],
   "source": [
    "# reshape into X=t,t+1,t+2,t+3 and Y=t+4\n",
    "time_step = 4\n",
    "X_train, y_train = create_dataset(train_data, time_step)\n",
    "X_test, ytest = create_dataset(test_data, time_step)"
   ]
  },
  {
   "cell_type": "code",
   "execution_count": 31,
   "id": "d8b33af0",
   "metadata": {},
   "outputs": [
    {
     "data": {
      "text/plain": [
       "((57, 4), (57,))"
      ]
     },
     "execution_count": 31,
     "metadata": {},
     "output_type": "execute_result"
    }
   ],
   "source": [
    "X_train.shape, y_train.shape"
   ]
  },
  {
   "cell_type": "code",
   "execution_count": 34,
   "id": "4ccd4f4f",
   "metadata": {},
   "outputs": [],
   "source": [
    "import numpy as np\n",
    "# reshape input to be [samples, time steps, features] which is required for LSTM\n",
    "X_train =X_train.reshape(X_train.shape[0], 4, 1)\n",
    "X_test = X_test.reshape(X_test.shape[0], 4, 1)\n",
    "\n"
   ]
  },
  {
   "cell_type": "markdown",
   "id": "d405548a",
   "metadata": {},
   "source": [
    "\n",
    "**LSTMs are sensitive to the scale of the input data, specifically when the sigmoid (default) or tanh activation functions are used. It can be a good practice to rescale the data to the range of 0-to-1, also called normalizing. We can easily normalize the dataset using the MinMaxScaler preprocessing class from the scikit-learn library**."
   ]
  },
  {
   "cell_type": "code",
   "execution_count": 35,
   "id": "4b0508b3",
   "metadata": {},
   "outputs": [
    {
     "data": {
      "text/plain": [
       "(57, 4, 1)"
      ]
     },
     "execution_count": 35,
     "metadata": {},
     "output_type": "execute_result"
    }
   ],
   "source": [
    "X_train.shape"
   ]
  },
  {
   "cell_type": "markdown",
   "id": "33cfda3a",
   "metadata": {},
   "source": [
    "## Using Keras"
   ]
  },
  {
   "cell_type": "code",
   "execution_count": 36,
   "id": "b17194a2",
   "metadata": {},
   "outputs": [],
   "source": [
    "## Create the LSTM model\n",
    "from tensorflow.keras.models import Sequential\n",
    "from tensorflow.keras.layers import Dense\n",
    "from tensorflow.keras.layers import LSTM"
   ]
  },
  {
   "cell_type": "code",
   "execution_count": 37,
   "id": "76fc036b",
   "metadata": {
    "scrolled": true
   },
   "outputs": [
    {
     "name": "stdout",
     "output_type": "stream",
     "text": [
      "Epoch 1/100\n",
      "57/57 [==============================] - 4s 17ms/step - loss: 0.0184 - val_loss: 0.0459\n",
      "Epoch 2/100\n",
      "57/57 [==============================] - 0s 4ms/step - loss: 0.0092 - val_loss: 0.0364\n",
      "Epoch 3/100\n",
      "57/57 [==============================] - 0s 4ms/step - loss: 0.0091 - val_loss: 0.0616\n",
      "Epoch 4/100\n",
      "57/57 [==============================] - 0s 4ms/step - loss: 0.0102 - val_loss: 0.0483\n",
      "Epoch 5/100\n",
      "57/57 [==============================] - 0s 4ms/step - loss: 0.0091 - val_loss: 0.0355\n",
      "Epoch 6/100\n",
      "57/57 [==============================] - 0s 9ms/step - loss: 0.0082 - val_loss: 0.0406\n",
      "Epoch 7/100\n",
      "57/57 [==============================] - 0s 9ms/step - loss: 0.0080 - val_loss: 0.0342\n",
      "Epoch 8/100\n",
      "57/57 [==============================] - 1s 10ms/step - loss: 0.0073 - val_loss: 0.0340\n",
      "Epoch 9/100\n",
      "57/57 [==============================] - 0s 6ms/step - loss: 0.0071 - val_loss: 0.0422\n",
      "Epoch 10/100\n",
      "57/57 [==============================] - 0s 6ms/step - loss: 0.0070 - val_loss: 0.0408\n",
      "Epoch 11/100\n",
      "57/57 [==============================] - 0s 7ms/step - loss: 0.0096 - val_loss: 0.0467\n",
      "Epoch 12/100\n",
      "57/57 [==============================] - 0s 5ms/step - loss: 0.0070 - val_loss: 0.0246\n",
      "Epoch 13/100\n",
      "57/57 [==============================] - 0s 4ms/step - loss: 0.0070 - val_loss: 0.0296\n",
      "Epoch 14/100\n",
      "57/57 [==============================] - 0s 4ms/step - loss: 0.0074 - val_loss: 0.0293\n",
      "Epoch 15/100\n",
      "57/57 [==============================] - 0s 4ms/step - loss: 0.0069 - val_loss: 0.0218\n",
      "Epoch 16/100\n",
      "57/57 [==============================] - 0s 4ms/step - loss: 0.0062 - val_loss: 0.0213\n",
      "Epoch 17/100\n",
      "57/57 [==============================] - 0s 4ms/step - loss: 0.0060 - val_loss: 0.0231\n",
      "Epoch 18/100\n",
      "57/57 [==============================] - 0s 4ms/step - loss: 0.0058 - val_loss: 0.0208\n",
      "Epoch 19/100\n",
      "57/57 [==============================] - 0s 4ms/step - loss: 0.0064 - val_loss: 0.0357\n",
      "Epoch 20/100\n",
      "57/57 [==============================] - 0s 4ms/step - loss: 0.0055 - val_loss: 0.0170\n",
      "Epoch 21/100\n",
      "57/57 [==============================] - 0s 4ms/step - loss: 0.0055 - val_loss: 0.0140\n",
      "Epoch 22/100\n",
      "57/57 [==============================] - 0s 7ms/step - loss: 0.0049 - val_loss: 0.0192\n",
      "Epoch 23/100\n",
      "57/57 [==============================] - 0s 5ms/step - loss: 0.0047 - val_loss: 0.0186\n",
      "Epoch 24/100\n",
      "57/57 [==============================] - 0s 6ms/step - loss: 0.0041 - val_loss: 0.0350\n",
      "Epoch 25/100\n",
      "57/57 [==============================] - 0s 7ms/step - loss: 0.0042 - val_loss: 0.0164\n",
      "Epoch 26/100\n",
      "57/57 [==============================] - 0s 5ms/step - loss: 0.0039 - val_loss: 0.0163\n",
      "Epoch 27/100\n",
      "57/57 [==============================] - 0s 6ms/step - loss: 0.0040 - val_loss: 0.0135\n",
      "Epoch 28/100\n",
      "57/57 [==============================] - 0s 4ms/step - loss: 0.0040 - val_loss: 0.0163\n",
      "Epoch 29/100\n",
      "57/57 [==============================] - 0s 4ms/step - loss: 0.0035 - val_loss: 0.0240\n",
      "Epoch 30/100\n",
      "57/57 [==============================] - 0s 4ms/step - loss: 0.0032 - val_loss: 0.0134\n",
      "Epoch 31/100\n",
      "57/57 [==============================] - 0s 4ms/step - loss: 0.0033 - val_loss: 0.0086\n",
      "Epoch 32/100\n",
      "57/57 [==============================] - 0s 4ms/step - loss: 0.0031 - val_loss: 0.0088\n",
      "Epoch 33/100\n",
      "57/57 [==============================] - 0s 4ms/step - loss: 0.0030 - val_loss: 0.0086\n",
      "Epoch 34/100\n",
      "57/57 [==============================] - 0s 4ms/step - loss: 0.0036 - val_loss: 0.0263\n",
      "Epoch 35/100\n",
      "57/57 [==============================] - 0s 4ms/step - loss: 0.0034 - val_loss: 0.0187\n",
      "Epoch 36/100\n",
      "57/57 [==============================] - 0s 4ms/step - loss: 0.0043 - val_loss: 0.0072\n",
      "Epoch 37/100\n",
      "57/57 [==============================] - 0s 6ms/step - loss: 0.0036 - val_loss: 0.0142\n",
      "Epoch 38/100\n",
      "57/57 [==============================] - 0s 4ms/step - loss: 0.0033 - val_loss: 0.0087\n",
      "Epoch 39/100\n",
      "57/57 [==============================] - 0s 4ms/step - loss: 0.0034 - val_loss: 0.0196\n",
      "Epoch 40/100\n",
      "57/57 [==============================] - 0s 8ms/step - loss: 0.0032 - val_loss: 0.0131\n",
      "Epoch 41/100\n",
      "57/57 [==============================] - 0s 7ms/step - loss: 0.0027 - val_loss: 0.0070\n",
      "Epoch 42/100\n",
      "57/57 [==============================] - 0s 5ms/step - loss: 0.0029 - val_loss: 0.0089\n",
      "Epoch 43/100\n",
      "57/57 [==============================] - 1s 12ms/step - loss: 0.0030 - val_loss: 0.0144\n",
      "Epoch 44/100\n",
      "57/57 [==============================] - 1s 13ms/step - loss: 0.0031 - val_loss: 0.0081\n",
      "Epoch 45/100\n",
      "57/57 [==============================] - 1s 12ms/step - loss: 0.0029 - val_loss: 0.0164\n",
      "Epoch 46/100\n",
      "57/57 [==============================] - 0s 6ms/step - loss: 0.0030 - val_loss: 0.0193\n",
      "Epoch 47/100\n",
      "57/57 [==============================] - 1s 9ms/step - loss: 0.0030 - val_loss: 0.0129\n",
      "Epoch 48/100\n",
      "57/57 [==============================] - 1s 14ms/step - loss: 0.0030 - val_loss: 0.0099\n",
      "Epoch 49/100\n",
      "57/57 [==============================] - 0s 8ms/step - loss: 0.0029 - val_loss: 0.0138\n",
      "Epoch 50/100\n",
      "57/57 [==============================] - 1s 11ms/step - loss: 0.0029 - val_loss: 0.0078\n",
      "Epoch 51/100\n",
      "57/57 [==============================] - 1s 12ms/step - loss: 0.0029 - val_loss: 0.0071\n",
      "Epoch 52/100\n",
      "57/57 [==============================] - 0s 4ms/step - loss: 0.0033 - val_loss: 0.0109\n",
      "Epoch 53/100\n",
      "57/57 [==============================] - 0s 4ms/step - loss: 0.0029 - val_loss: 0.0136\n",
      "Epoch 54/100\n",
      "57/57 [==============================] - 0s 4ms/step - loss: 0.0031 - val_loss: 0.0082\n",
      "Epoch 55/100\n",
      "57/57 [==============================] - 0s 4ms/step - loss: 0.0032 - val_loss: 0.0160\n",
      "Epoch 56/100\n",
      "57/57 [==============================] - 0s 7ms/step - loss: 0.0036 - val_loss: 0.0157\n",
      "Epoch 57/100\n",
      "57/57 [==============================] - 0s 5ms/step - loss: 0.0031 - val_loss: 0.0071\n",
      "Epoch 58/100\n",
      "57/57 [==============================] - 0s 4ms/step - loss: 0.0030 - val_loss: 0.0145\n",
      "Epoch 59/100\n",
      "57/57 [==============================] - 0s 4ms/step - loss: 0.0033 - val_loss: 0.0154\n",
      "Epoch 60/100\n",
      "57/57 [==============================] - 0s 4ms/step - loss: 0.0029 - val_loss: 0.0094\n",
      "Epoch 61/100\n",
      "57/57 [==============================] - 0s 4ms/step - loss: 0.0035 - val_loss: 0.0093\n",
      "Epoch 62/100\n",
      "57/57 [==============================] - 0s 4ms/step - loss: 0.0030 - val_loss: 0.0116\n",
      "Epoch 63/100\n",
      "57/57 [==============================] - 0s 4ms/step - loss: 0.0031 - val_loss: 0.0101\n",
      "Epoch 64/100\n",
      "57/57 [==============================] - 0s 8ms/step - loss: 0.0028 - val_loss: 0.0146\n",
      "Epoch 65/100\n",
      "57/57 [==============================] - 1s 12ms/step - loss: 0.0032 - val_loss: 0.0162\n",
      "Epoch 66/100\n",
      "57/57 [==============================] - 0s 4ms/step - loss: 0.0030 - val_loss: 0.0118\n",
      "Epoch 67/100\n",
      "57/57 [==============================] - 0s 4ms/step - loss: 0.0030 - val_loss: 0.0084\n",
      "Epoch 68/100\n",
      "57/57 [==============================] - 0s 4ms/step - loss: 0.0033 - val_loss: 0.0105\n",
      "Epoch 69/100\n",
      "57/57 [==============================] - 0s 4ms/step - loss: 0.0029 - val_loss: 0.0083\n",
      "Epoch 70/100\n",
      "57/57 [==============================] - 0s 4ms/step - loss: 0.0027 - val_loss: 0.0070\n",
      "Epoch 71/100\n",
      "57/57 [==============================] - 0s 4ms/step - loss: 0.0034 - val_loss: 0.0133\n",
      "Epoch 72/100\n",
      "57/57 [==============================] - 0s 4ms/step - loss: 0.0031 - val_loss: 0.0122\n",
      "Epoch 73/100\n",
      "57/57 [==============================] - 0s 5ms/step - loss: 0.0030 - val_loss: 0.0119\n",
      "Epoch 74/100\n",
      "57/57 [==============================] - 0s 4ms/step - loss: 0.0030 - val_loss: 0.0096\n",
      "Epoch 75/100\n",
      "57/57 [==============================] - 0s 4ms/step - loss: 0.0030 - val_loss: 0.0102\n",
      "Epoch 76/100\n",
      "57/57 [==============================] - 0s 4ms/step - loss: 0.0032 - val_loss: 0.0101\n",
      "Epoch 77/100\n",
      "57/57 [==============================] - 0s 4ms/step - loss: 0.0029 - val_loss: 0.0160\n",
      "Epoch 78/100\n",
      "57/57 [==============================] - 0s 4ms/step - loss: 0.0035 - val_loss: 0.0135\n",
      "Epoch 79/100\n",
      "57/57 [==============================] - 0s 4ms/step - loss: 0.0029 - val_loss: 0.0082\n",
      "Epoch 80/100\n",
      "57/57 [==============================] - 0s 4ms/step - loss: 0.0032 - val_loss: 0.0194\n",
      "Epoch 81/100\n",
      "57/57 [==============================] - 0s 4ms/step - loss: 0.0033 - val_loss: 0.0140\n",
      "Epoch 82/100\n",
      "57/57 [==============================] - 0s 4ms/step - loss: 0.0030 - val_loss: 0.0135\n"
     ]
    },
    {
     "name": "stdout",
     "output_type": "stream",
     "text": [
      "Epoch 83/100\n",
      "57/57 [==============================] - 0s 4ms/step - loss: 0.0031 - val_loss: 0.0155\n",
      "Epoch 84/100\n",
      "57/57 [==============================] - 0s 4ms/step - loss: 0.0034 - val_loss: 0.0108\n",
      "Epoch 85/100\n",
      "57/57 [==============================] - 0s 8ms/step - loss: 0.0032 - val_loss: 0.0097\n",
      "Epoch 86/100\n",
      "57/57 [==============================] - 0s 4ms/step - loss: 0.0034 - val_loss: 0.0243\n",
      "Epoch 87/100\n",
      "57/57 [==============================] - 0s 4ms/step - loss: 0.0035 - val_loss: 0.0213\n",
      "Epoch 88/100\n",
      "57/57 [==============================] - 0s 4ms/step - loss: 0.0034 - val_loss: 0.0141\n",
      "Epoch 89/100\n",
      "57/57 [==============================] - 0s 4ms/step - loss: 0.0029 - val_loss: 0.0161\n",
      "Epoch 90/100\n",
      "57/57 [==============================] - 0s 4ms/step - loss: 0.0030 - val_loss: 0.0170\n",
      "Epoch 91/100\n",
      "57/57 [==============================] - 0s 4ms/step - loss: 0.0028 - val_loss: 0.0099\n",
      "Epoch 92/100\n",
      "57/57 [==============================] - 0s 4ms/step - loss: 0.0031 - val_loss: 0.0160\n",
      "Epoch 93/100\n",
      "57/57 [==============================] - 0s 4ms/step - loss: 0.0033 - val_loss: 0.0133\n",
      "Epoch 94/100\n",
      "57/57 [==============================] - 0s 4ms/step - loss: 0.0028 - val_loss: 0.0168\n",
      "Epoch 95/100\n",
      "57/57 [==============================] - 0s 4ms/step - loss: 0.0030 - val_loss: 0.0135\n",
      "Epoch 96/100\n",
      "57/57 [==============================] - 0s 4ms/step - loss: 0.0027 - val_loss: 0.0104\n",
      "Epoch 97/100\n",
      "57/57 [==============================] - 0s 4ms/step - loss: 0.0031 - val_loss: 0.0099\n",
      "Epoch 98/100\n",
      "57/57 [==============================] - 0s 4ms/step - loss: 0.0030 - val_loss: 0.0160\n",
      "Epoch 99/100\n",
      "57/57 [==============================] - 0s 4ms/step - loss: 0.0033 - val_loss: 0.0129\n",
      "Epoch 100/100\n",
      "57/57 [==============================] - 0s 4ms/step - loss: 0.0031 - val_loss: 0.0187\n"
     ]
    },
    {
     "data": {
      "text/plain": [
       "<keras.callbacks.History at 0x191734fec10>"
      ]
     },
     "execution_count": 37,
     "metadata": {},
     "output_type": "execute_result"
    }
   ],
   "source": [
    "model=Sequential()\n",
    "model.add(LSTM(50,return_sequences=True,input_shape=(4,1)))\n",
    "model.add(LSTM(50))\n",
    "model.add(Dense(1))\n",
    "model.compile(loss='mean_squared_error',optimizer='adam')\n",
    "model.fit(X_train,y_train,validation_data=(X_test,ytest),epochs=100,batch_size=1,verbose=1)"
   ]
  },
  {
   "cell_type": "code",
   "execution_count": 38,
   "id": "0cdf4ec5",
   "metadata": {},
   "outputs": [],
   "source": [
    "train_predict=model.predict(X_train)\n",
    "test_predict=model.predict(X_test)"
   ]
  },
  {
   "cell_type": "code",
   "execution_count": 39,
   "id": "7a0ed8e7",
   "metadata": {},
   "outputs": [
    {
     "data": {
      "text/plain": [
       "array([[0.51984096],\n",
       "       [0.61739147],\n",
       "       [0.48306933],\n",
       "       [0.35426605],\n",
       "       [0.33799875],\n",
       "       [0.305795  ],\n",
       "       [0.4368875 ],\n",
       "       [0.45078292],\n",
       "       [0.3610924 ],\n",
       "       [0.51801634],\n",
       "       [0.4857421 ],\n",
       "       [0.45130956],\n",
       "       [0.6528536 ],\n",
       "       [0.7751174 ],\n",
       "       [0.5462127 ],\n",
       "       [0.43078282],\n",
       "       [0.41744116],\n",
       "       [0.3645467 ],\n",
       "       [0.585812  ],\n",
       "       [0.551798  ],\n",
       "       [0.44409806],\n",
       "       [0.64064586],\n",
       "       [0.56337225],\n",
       "       [0.5410377 ],\n",
       "       [0.7948582 ],\n",
       "       [0.83172345],\n",
       "       [0.641837  ],\n",
       "       [0.47267306],\n",
       "       [0.4400582 ]], dtype=float32)"
      ]
     },
     "execution_count": 39,
     "metadata": {},
     "output_type": "execute_result"
    }
   ],
   "source": [
    "test_predict"
   ]
  },
  {
   "cell_type": "code",
   "execution_count": 41,
   "id": "5f308508",
   "metadata": {},
   "outputs": [
    {
     "data": {
      "text/plain": [
       "((57,), (57, 1))"
      ]
     },
     "execution_count": 41,
     "metadata": {},
     "output_type": "execute_result"
    }
   ],
   "source": [
    "y_train.shape,train_predict.shape"
   ]
  },
  {
   "cell_type": "code",
   "execution_count": 44,
   "id": "eda273ed",
   "metadata": {},
   "outputs": [
    {
     "data": {
      "text/plain": [
       "array([[0.10050984],\n",
       "       [0.08021839],\n",
       "       [0.13604915],\n",
       "       [0.1688482 ],\n",
       "       [0.15818456],\n",
       "       [0.1200354 ],\n",
       "       [0.07668021],\n",
       "       [0.03940263],\n",
       "       [0.08765066],\n",
       "       [0.06063428],\n",
       "       [0.10137694],\n",
       "       [0.14690429],\n",
       "       [0.11594961],\n",
       "       [0.09192186],\n",
       "       [0.18508783],\n",
       "       [0.24032508],\n",
       "       [0.21767312],\n",
       "       [0.17816862],\n",
       "       [0.10952199],\n",
       "       [0.07049549],\n",
       "       [0.16468449],\n",
       "       [0.15415943],\n",
       "       [0.16746604],\n",
       "       [0.27144244],\n",
       "       [0.18689497],\n",
       "       [0.23825075],\n",
       "       [0.26052266],\n",
       "       [0.32744104],\n",
       "       [0.30251548],\n",
       "       [0.24074206],\n",
       "       [0.1888278 ],\n",
       "       [0.16079965],\n",
       "       [0.24415122],\n",
       "       [0.23645194],\n",
       "       [0.25844365],\n",
       "       [0.30309594],\n",
       "       [0.23977815],\n",
       "       [0.26442194],\n",
       "       [0.4051759 ],\n",
       "       [0.40247273],\n",
       "       [0.41466123],\n",
       "       [0.2733924 ],\n",
       "       [0.26196545],\n",
       "       [0.23444653],\n",
       "       [0.32863858],\n",
       "       [0.3073543 ],\n",
       "       [0.29028758],\n",
       "       [0.45581636],\n",
       "       [0.39546475],\n",
       "       [0.3502415 ],\n",
       "       [0.4376047 ],\n",
       "       [0.5043496 ],\n",
       "       [0.48582178],\n",
       "       [0.32276952],\n",
       "       [0.29578078],\n",
       "       [0.24394953],\n",
       "       [0.35334778]], dtype=float32)"
      ]
     },
     "execution_count": 44,
     "metadata": {},
     "output_type": "execute_result"
    }
   ],
   "source": [
    "train_predict"
   ]
  },
  {
   "cell_type": "code",
   "execution_count": 45,
   "id": "c1ff03e5",
   "metadata": {},
   "outputs": [
    {
     "data": {
      "text/plain": [
       "0.051449261930503074"
      ]
     },
     "execution_count": 45,
     "metadata": {},
     "output_type": "execute_result"
    }
   ],
   "source": [
    "### Calculate RMSE performance metrics\n",
    "import math\n",
    "from sklearn.metrics import mean_squared_error\n",
    "math.sqrt(mean_squared_error(y_train,train_predict))"
   ]
  },
  {
   "cell_type": "code",
   "execution_count": 46,
   "id": "93c6f61d",
   "metadata": {},
   "outputs": [
    {
     "data": {
      "text/plain": [
       "0.13668632530725233"
      ]
     },
     "execution_count": 46,
     "metadata": {},
     "output_type": "execute_result"
    }
   ],
   "source": [
    "### Test Data RMSE\n",
    "math.sqrt(mean_squared_error(ytest,test_predict))\n",
    "\n"
   ]
  },
  {
   "cell_type": "code",
   "execution_count": 47,
   "id": "1e7866af",
   "metadata": {},
   "outputs": [
    {
     "data": {
      "image/png": "[encoded data removed]",
      "text/plain": [
       "<Figure size 432x288 with 1 Axes>"
      ]
     },
     "metadata": {
      "needs_background": "light"
     },
     "output_type": "display_data"
    }
   ],
   "source": [
    "### Plotting \n",
    "# shift train predictions for plotting\n",
    "look_back=4\n",
    "trainPredictPlot = np.empty_like(df)\n",
    "trainPredictPlot[:, :] = np.nan\n",
    "trainPredictPlot[look_back:len(train_predict)+look_back, :] = train_predict\n",
    "# shift test predictions for plotting\n",
    "testPredictPlot = np.empty_like(df)\n",
    "testPredictPlot[:, :] = np.nan\n",
    "testPredictPlot[len(train_predict)+(look_back*2)+1:len(df)-1, :] = test_predict\n",
    "# plot baseline and predictions\n",
    "plt.plot(scaler.inverse_transform(df))\n",
    "plt.plot(trainPredictPlot)\n",
    "plt.plot(testPredictPlot)\n",
    "plt.show()"
   ]
  },
  {
   "cell_type": "code",
   "execution_count": null,
   "id": "1d6b90d9",
   "metadata": {},
   "outputs": [],
   "source": []
  },
  {
   "cell_type": "code",
   "execution_count": null,
   "id": "44c2f5ff",
   "metadata": {},
   "outputs": [],
   "source": []
  },
  {
   "cell_type": "code",
   "execution_count": null,
   "id": "db9a6fc2",
   "metadata": {},
   "outputs": [],
   "source": []
  }
 ],
 "metadata": {
  "kernelspec": {
   "display_name": "Python 3 (ipykernel)",
   "language": "python",
   "name": "python3"
  },
  "language_info": {
   "codemirror_mode": {
    "name": "ipython",
    "version": 3
   },
   "file_extension": ".py",
   "mimetype": "text/x-python",
   "name": "python",
   "nbconvert_exporter": "python",
   "pygments_lexer": "ipython3",
   "version": "3.9.7"
  }
 },
 "nbformat": 4,
 "nbformat_minor": 5
}
